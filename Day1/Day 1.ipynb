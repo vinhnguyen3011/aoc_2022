{
 "cells": [
  {
   "cell_type": "code",
   "execution_count": 40,
   "id": "e2215a92",
   "metadata": {},
   "outputs": [],
   "source": [
    "with open('input.txt') as file:\n",
    "    data = [i for i in file.read().strip().split('\\n')]"
   ]
  },
  {
   "cell_type": "code",
   "execution_count": 1,
   "id": "8e3b4018",
   "metadata": {},
   "outputs": [],
   "source": [
    "#print(data)"
   ]
  },
  {
   "cell_type": "code",
   "execution_count": 56,
   "id": "ea4c2915",
   "metadata": {},
   "outputs": [
    {
     "name": "stdout",
     "output_type": "stream",
     "text": [
      "Top1: 66719\n",
      "Top2: 66339\n",
      "Top3: 65493\n",
      "Answer to part 1: 66719\n",
      "Answer to part 2: 198551\n"
     ]
    }
   ],
   "source": [
    "total_calories = []\n",
    "count=0\n",
    "for item in data:\n",
    "    if item == '':\n",
    "        total_calories.append(count)\n",
    "        count = 0\n",
    "    else:\n",
    "        num = int(item)\n",
    "        count += num\n",
    "\n",
    "#Sort the list by descending order\n",
    "total_calories = sorted(total_calories,reverse=True)\n",
    "\n",
    "print('Top1:', total_calories[0])\n",
    "print('Top2:', total_calories[1])\n",
    "print('Top3:', total_calories[2])\n",
    "\n",
    "print('Answer to part 1:', total_calories[0])\n",
    "\n",
    "print('Answer to part 2:', total_calories[0]+total_calories[1]+total_calories[2])"
   ]
  }
 ],
 "metadata": {
  "kernelspec": {
   "display_name": "Python 3",
   "language": "python",
   "name": "python3"
  },
  "language_info": {
   "codemirror_mode": {
    "name": "ipython",
    "version": 3
   },
   "file_extension": ".py",
   "mimetype": "text/x-python",
   "name": "python",
   "nbconvert_exporter": "python",
   "pygments_lexer": "ipython3",
   "version": "3.8.8"
  }
 },
 "nbformat": 4,
 "nbformat_minor": 5
}
