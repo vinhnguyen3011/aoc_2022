{
 "cells": [
  {
   "cell_type": "code",
   "execution_count": 46,
   "id": "bb328444",
   "metadata": {},
   "outputs": [
    {
     "data": {
      "text/plain": [
       "13220"
      ]
     },
     "execution_count": 46,
     "metadata": {},
     "output_type": "execute_result"
    }
   ],
   "source": [
    "X = 1\n",
    "cycle = 0\n",
    "cycle_of_addx = 0\n",
    "sum_signal = 0\n",
    "with open('input.txt') as file:\n",
    "    for line in file:\n",
    "        if line[0:4] == 'noop':\n",
    "            cycle += 1\n",
    "        elif line[0:4] == 'addx':\n",
    "            cycle += 1\n",
    "            cycle_of_addx += 1\n",
    "        if cycle in [20, 60, 100, 140, 180, 220]:\n",
    "            signal_strength = cycle*X\n",
    "            sum_signal += signal_strength\n",
    "        if cycle_of_addx == 1:\n",
    "            cycle += 1\n",
    "            if cycle in [20, 60, 100, 140, 180, 220]:\n",
    "                signal_strength = cycle*X\n",
    "                sum_signal += signal_strength\n",
    "            X += int(line[5:len(line)])\n",
    "            cycle_of_addx = 0\n",
    "sum_signal"
   ]
  },
  {
   "cell_type": "code",
   "execution_count": 43,
   "id": "88fd7152",
   "metadata": {},
   "outputs": [],
   "source": [
    "signal_image = [[],[],[],[],[],[]]\n",
    "\n",
    "''.join([item[0] for item in list_of_stack])"
   ]
  },
  {
   "cell_type": "code",
   "execution_count": 54,
   "id": "0b73c1ce",
   "metadata": {},
   "outputs": [],
   "source": [
    "X = 1\n",
    "cycle = 0\n",
    "cycle_of_addx = 0\n",
    "string1 = ''\n",
    "string2 = ''\n",
    "string3 = ''\n",
    "string4 = ''\n",
    "string5 = ''\n",
    "string6 = ''\n",
    "\n",
    "signal_image = ['','','','','','']\n",
    "\n",
    "with open('input.txt') as file:\n",
    "    for line in file:\n",
    "        if line[0:4] == 'noop':\n",
    "            cycle += 1\n",
    "        elif line[0:4] == 'addx':\n",
    "            cycle += 1\n",
    "            cycle_of_addx += 1\n",
    "        for i in range(1,7):\n",
    "            for cycle in range(i,40*i+1):\n",
    "                if cle in range(X,X+3):\n",
    "                    draw = '#'\n",
    "                else:\n",
    "                    draw = '.'\n",
    "            signal_image[i-1] = signal_image[i-1] + draw\n",
    "        if cycle_of_addx == 1:\n",
    "            cycle += 1\n",
    "            for i in range(1,7):\n",
    "                for cycle in range(i,40*i+1):\n",
    "                    if i in range(X,X+3):\n",
    "                        draw = '#'\n",
    "                    else:\n",
    "                        draw = '.'\n",
    "                signal_image[i-1] = signal_image[i-1] + draw\n",
    "            X += int(line[5:len(line)])\n",
    "            cycle_of_addx = 0"
   ]
  },
  {
   "cell_type": "code",
   "execution_count": 56,
   "id": "7c4667a2",
   "metadata": {},
   "outputs": [
    {
     "data": {
      "text/plain": [
       "['####...................................###......................................##....................................######..................................#######.....................##............##......................................',\n",
       " '####..................................................................................................................######..................................##..###.....................##....................................................',\n",
       " '####....................................................................................................................####......................................###.....................##....................................................',\n",
       " '.....................##...................##......................................##.................................................................................##....##.............................##....................................',\n",
       " '.....................##...................##............................##....##..##.................................................................................##....##.............................##....................................',\n",
       " '....##...............##...................####..........................##....##..####......................................##.......................................##....##.............................##..##................................']"
      ]
     },
     "execution_count": 56,
     "metadata": {},
     "output_type": "execute_result"
    }
   ],
   "source": [
    "signal_image"
   ]
  }
 ],
 "metadata": {
  "kernelspec": {
   "display_name": "Python 3",
   "language": "python",
   "name": "python3"
  },
  "language_info": {
   "codemirror_mode": {
    "name": "ipython",
    "version": 3
   },
   "file_extension": ".py",
   "mimetype": "text/x-python",
   "name": "python",
   "nbconvert_exporter": "python",
   "pygments_lexer": "ipython3",
   "version": "3.8.8"
  }
 },
 "nbformat": 4,
 "nbformat_minor": 5
}
