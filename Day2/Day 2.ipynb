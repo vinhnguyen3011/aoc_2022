{
 "cells": [
  {
   "cell_type": "code",
   "execution_count": 68,
   "id": "8a33b6c0",
   "metadata": {},
   "outputs": [],
   "source": [
    "import pandas as pd\n",
    "import numpy as np"
   ]
  },
  {
   "cell_type": "code",
   "execution_count": 69,
   "id": "b1052e7d",
   "metadata": {},
   "outputs": [],
   "source": [
    "data=pd.read_table('input.txt', delimiter = ' ', header = None)\n",
    "data.columns =['Opponent', 'Me']\n",
    "data['Opponent_new'] = data['Opponent'].replace({'A':1,'B':2, 'C':3})\n",
    "data['Me_new'] = data['Me'].replace({'X':1,'Y':2, 'Z':3})"
   ]
  },
  {
   "cell_type": "markdown",
   "id": "818f4220",
   "metadata": {},
   "source": [
    "## Part 1"
   ]
  },
  {
   "cell_type": "markdown",
   "id": "38a55a9a",
   "metadata": {},
   "source": [
    "Opponent: A for Rock, B for Paper, and C for Scissors.  \n",
    "\n",
    "Me: X for Rock, Y for Paper, and Z for Scissors. \n",
    "\n",
    "The score for a single round is the score for the shape you selected (1 for Rock, 2 for Paper, and 3 for Scissors) plus the score for the outcome of the round (0 if you lost, 3 if the round was a draw, and 6 if you won)."
   ]
  },
  {
   "cell_type": "code",
   "execution_count": 70,
   "id": "472a2871",
   "metadata": {},
   "outputs": [],
   "source": [
    "conditions = [\n",
    "    (data['Opponent_new'] ==  data['Me_new']),\n",
    "    (data['Opponent_new']==3) & (data['Me_new']==1),\n",
    "    (data['Opponent_new']==1) & (data['Me_new']==3),\n",
    "    (data['Opponent_new'] < data['Me_new'])\n",
    "    ]\n",
    "\n",
    "# create a list of the values we want to assign for each condition\n",
    "values = [3, 6, 0, 6]\n",
    "\n",
    "# create a new column and use np.select to assign values to it using our lists as arguments\n",
    "data['Outcome'] = np.select(conditions, values)"
   ]
  },
  {
   "cell_type": "code",
   "execution_count": 71,
   "id": "dff07e22",
   "metadata": {},
   "outputs": [
    {
     "name": "stdout",
     "output_type": "stream",
     "text": [
      "Total score will be: 10718\n"
     ]
    }
   ],
   "source": [
    "data['sum'] = data['Me_new']+data['Outcome']\n",
    "sum_score = data['sum'].sum()\n",
    "print('Total score will be:', sum_score)"
   ]
  },
  {
   "cell_type": "markdown",
   "id": "6e6f4cc1",
   "metadata": {},
   "source": [
    "## Part 2\n",
    "Now the second column says how the round needs to end: X means you need to lose, Y means you need to end the round in a draw, and Z means you need to win\"\n",
    "\n",
    "The total score is still calculated in the same way, but now you need to figure out what shape to choose so the round ends as indicated"
   ]
  },
  {
   "cell_type": "code",
   "execution_count": 72,
   "id": "3ca9e369",
   "metadata": {},
   "outputs": [],
   "source": [
    "data=pd.read_table('input.txt', delimiter = ' ', header = None)\n",
    "data.columns =['Opponent', 'Outcome']\n",
    "data['Opponent_new'] = data['Opponent'].replace({'A':1,'B':2, 'C':3})\n",
    "data['Outcome_new'] = data['Outcome'].replace({'X':0,'Y':3, 'Z':6})"
   ]
  },
  {
   "cell_type": "code",
   "execution_count": 73,
   "id": "a85c0bf5",
   "metadata": {},
   "outputs": [],
   "source": [
    "conditions = [\n",
    "    (data['Outcome_new'] ==  3),\n",
    "    (data['Outcome_new'] ==  0) & (data['Opponent_new'] != 1),\n",
    "    (data['Outcome_new'] ==  0) & (data['Opponent_new'] == 1),\n",
    "    (data['Outcome_new'] ==  6) & (data['Opponent_new'] != 3),\n",
    "    (data['Outcome_new'] ==  6) & (data['Opponent_new'] == 3)\n",
    "    ]\n",
    "\n",
    "# create a list of the values we want to assign for each condition\n",
    "values = [data['Opponent_new'], data['Opponent_new']-1,3, data['Opponent_new']+1, 1]\n",
    "\n",
    "# create a new column and use np.select to assign values to it using our lists as arguments\n",
    "data['Me'] = np.select(conditions, values)"
   ]
  },
  {
   "cell_type": "code",
   "execution_count": 74,
   "id": "81a9766f",
   "metadata": {},
   "outputs": [
    {
     "name": "stdout",
     "output_type": "stream",
     "text": [
      "Total score will be: 14652\n"
     ]
    }
   ],
   "source": [
    "data['sum'] = data['Me']+data['Outcome_new']\n",
    "sum_score = data['sum'].sum()\n",
    "print('Total score will be:', sum_score)"
   ]
  }
 ],
 "metadata": {
  "kernelspec": {
   "display_name": "Python 3",
   "language": "python",
   "name": "python3"
  },
  "language_info": {
   "codemirror_mode": {
    "name": "ipython",
    "version": 3
   },
   "file_extension": ".py",
   "mimetype": "text/x-python",
   "name": "python",
   "nbconvert_exporter": "python",
   "pygments_lexer": "ipython3",
   "version": "3.8.8"
  }
 },
 "nbformat": 4,
 "nbformat_minor": 5
}
