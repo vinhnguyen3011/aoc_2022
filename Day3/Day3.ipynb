{
 "cells": [
  {
   "cell_type": "code",
   "execution_count": 131,
   "id": "d4b461fe",
   "metadata": {},
   "outputs": [],
   "source": [
    "with open('input.txt') as file:\n",
    "    data = [i for i in file.read().strip().split('\\n')]"
   ]
  },
  {
   "cell_type": "markdown",
   "id": "ba4256ed",
   "metadata": {},
   "source": [
    "# Part 1\n",
    "First duplicate character in first half and second half of the each string, then parse it with below logic:  \n",
    "a-z: 1-26  \n",
    "A-Z: 27-52"
   ]
  },
  {
   "cell_type": "code",
   "execution_count": 72,
   "id": "8d750372",
   "metadata": {},
   "outputs": [],
   "source": [
    "list = []\n",
    "first = []\n",
    "second = []\n",
    "for item in data:\n",
    "    len_string = len(item)\n",
    "    first_string = item[0:(len_string//2)]\n",
    "    first_string = ''.join(set(first_string))  #Remove duplicate character\n",
    "    second_string = item[(len_string//2)::]\n",
    "    first.append(first_string)\n",
    "    second.append(second_string)\n",
    "    for element in first_string:\n",
    "        if element in second_string:\n",
    "            list.append(element)"
   ]
  },
  {
   "cell_type": "code",
   "execution_count": 71,
   "id": "abd3aa22",
   "metadata": {},
   "outputs": [
    {
     "name": "stdout",
     "output_type": "stream",
     "text": [
      "Part 1: 7811\n"
     ]
    }
   ],
   "source": [
    "list_num = []\n",
    "total = 0\n",
    "for item in list:\n",
    "    if item.isupper():\n",
    "        num = ord(item)-38\n",
    "    elif item.islower():\n",
    "        num = ord(item)-96\n",
    "    total += num\n",
    "print(\"Part 1:\", total)"
   ]
  },
  {
   "cell_type": "markdown",
   "id": "e0fbc147",
   "metadata": {},
   "source": [
    "# Part 2\n",
    "3 consecutive lines is a group, find the character that appear in each group and parse the total of each group with same logic"
   ]
  },
  {
   "cell_type": "code",
   "execution_count": 193,
   "id": "75f48148",
   "metadata": {},
   "outputs": [
    {
     "data": {
      "text/plain": [
       "100"
      ]
     },
     "execution_count": 193,
     "metadata": {},
     "output_type": "execute_result"
    }
   ],
   "source": [
    "list_part2=[]\n",
    "count = 0\n",
    "while count < len(data):\n",
    "    line1 = data[count]\n",
    "    line2 = data[count+1]\n",
    "    line3 = data[count+2]\n",
    "    for element in line3:\n",
    "        if element in line1 and element in line2:\n",
    "            list_part2.append(element)\n",
    "            count+=3\n",
    "            break\n",
    "len(list_part2)"
   ]
  },
  {
   "cell_type": "code",
   "execution_count": 194,
   "id": "bd061b32",
   "metadata": {},
   "outputs": [
    {
     "name": "stdout",
     "output_type": "stream",
     "text": [
      "Part 2: 2639\n"
     ]
    }
   ],
   "source": [
    "list_num = []\n",
    "total = 0\n",
    "for item in list_part2:\n",
    "    if item.isupper():\n",
    "        num = ord(item)-38\n",
    "    elif item.islower():\n",
    "        num = ord(item)-96\n",
    "    total += num\n",
    "print(\"Part 2:\", total)"
   ]
  }
 ],
 "metadata": {
  "kernelspec": {
   "display_name": "Python 3",
   "language": "python",
   "name": "python3"
  },
  "language_info": {
   "codemirror_mode": {
    "name": "ipython",
    "version": 3
   },
   "file_extension": ".py",
   "mimetype": "text/x-python",
   "name": "python",
   "nbconvert_exporter": "python",
   "pygments_lexer": "ipython3",
   "version": "3.8.8"
  }
 },
 "nbformat": 4,
 "nbformat_minor": 5
}
