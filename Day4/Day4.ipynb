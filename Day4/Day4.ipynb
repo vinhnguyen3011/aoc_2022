{
 "cells": [
  {
   "cell_type": "code",
   "execution_count": 1,
   "id": "7130455f",
   "metadata": {},
   "outputs": [],
   "source": [
    "with open('input.txt') as file:\n",
    "    data = [i for i in file.read().strip().split('\\n')]"
   ]
  },
  {
   "cell_type": "markdown",
   "id": "b564859d",
   "metadata": {},
   "source": [
    "# Part 1\n",
    "In how many assignment pairs does one range fully contain the other?\n",
    "# Part 2\n",
    "In how many assignment pairs do the ranges overlap?"
   ]
  },
  {
   "cell_type": "code",
   "execution_count": 14,
   "id": "76c5fcfd",
   "metadata": {},
   "outputs": [
    {
     "name": "stdout",
     "output_type": "stream",
     "text": [
      "Part 1:  444\n",
      "Part 2:  801\n"
     ]
    }
   ],
   "source": [
    "count_total_contain = 0\n",
    "count_overlap = 0\n",
    "for item in data:\n",
    "    first_range = item.split(',')[0]\n",
    "    first_range_1 = int(first_range.split('-')[0])\n",
    "    first_range_2 = int(first_range.split('-')[1])\n",
    "    second_range = item.split(',')[1]\n",
    "    second_range_1 = int(second_range.split('-')[0])\n",
    "    second_range_2 = int(second_range.split('-')[1])\n",
    "    if ((first_range_1 >= second_range_1) & (first_range_2 <= second_range_2)) |  ((first_range_1 <= second_range_1) & (first_range_2 >= second_range_2)):\n",
    "        count_total_contain += 1\n",
    "    if ( first_range_1 in range(second_range_1,second_range_2+1)) |  (first_range_2 in range(second_range_1,second_range_2+1)) | (second_range_1 in range(first_range_1,first_range_2+1)) | (second_range_2 in range(first_range_1,first_range_2+1)):\n",
    "        count_overlap += 1\n",
    "print(\"Part 1: \",count_total_contain)\n",
    "print(\"Part 2: \",count_overlap)"
   ]
  }
 ],
 "metadata": {
  "kernelspec": {
   "display_name": "Python 3",
   "language": "python",
   "name": "python3"
  },
  "language_info": {
   "codemirror_mode": {
    "name": "ipython",
    "version": 3
   },
   "file_extension": ".py",
   "mimetype": "text/x-python",
   "name": "python",
   "nbconvert_exporter": "python",
   "pygments_lexer": "ipython3",
   "version": "3.8.8"
  }
 },
 "nbformat": 4,
 "nbformat_minor": 5
}
