{
 "cells": [
  {
   "cell_type": "markdown",
   "id": "2d7bf04e",
   "metadata": {},
   "source": [
    "# Part 1"
   ]
  },
  {
   "cell_type": "code",
   "execution_count": 1,
   "id": "e736b73a",
   "metadata": {},
   "outputs": [],
   "source": [
    "i = 0\n",
    "list_command = []\n",
    "list_of_stack = [[],[],[],[],[],[],[],[],[]]\n",
    "\n",
    "with open('input.txt') as file:\n",
    "    for line in file:\n",
    "        i += 1\n",
    "        words = line.split()\n",
    "        list_command.append(words)\n",
    "        if i <= 8:\n",
    "            if line[1] != ' ':\n",
    "                list_of_stack[0].append(line[1])\n",
    "            if line[5] != ' ':\n",
    "                list_of_stack[1].append(line[5])\n",
    "            if line[9] != ' ':\n",
    "                list_of_stack[2].append(line[9])\n",
    "            if line[13] != ' ':\n",
    "                list_of_stack[3].append(line[13])\n",
    "            if line[17] != ' ':\n",
    "                list_of_stack[4].append(line[17])\n",
    "            if line[21] != ' ':\n",
    "                list_of_stack[5].append(line[21])\n",
    "            if line[25] != ' ':\n",
    "                list_of_stack[6].append(line[25])\n",
    "            if line[29] != ' ':\n",
    "                list_of_stack[7].append(line[29])\n",
    "            if line[33] != ' ':\n",
    "                list_of_stack[8].append(line[33])\n",
    "list_command = list_command[10::]"
   ]
  },
  {
   "cell_type": "code",
   "execution_count": 2,
   "id": "f9deeda9",
   "metadata": {},
   "outputs": [],
   "source": [
    "list_num = [[int(item[1]),int(item[3])-1,int(item[5])-1] for item in list_command]"
   ]
  },
  {
   "cell_type": "code",
   "execution_count": 3,
   "id": "4c67f413",
   "metadata": {},
   "outputs": [],
   "source": [
    "for item in list_num:\n",
    "    for i in range(0,item[0]):\n",
    "        list_of_stack[item[2]].insert(0, list_of_stack[item[1]][0])\n",
    "        del list_of_stack[item[1]][0]\n",
    "part_1_string = ''.join([item[0] for item in list_of_stack])"
   ]
  },
  {
   "cell_type": "code",
   "execution_count": 4,
   "id": "baf74bf8",
   "metadata": {},
   "outputs": [
    {
     "data": {
      "text/plain": [
       "'GFTNRBZPF'"
      ]
     },
     "execution_count": 4,
     "metadata": {},
     "output_type": "execute_result"
    }
   ],
   "source": [
    "part_1_string"
   ]
  },
  {
   "cell_type": "markdown",
   "id": "3181a1d4",
   "metadata": {},
   "source": [
    "# Part 2"
   ]
  },
  {
   "cell_type": "code",
   "execution_count": 5,
   "id": "da00a038",
   "metadata": {},
   "outputs": [],
   "source": [
    "i = 0\n",
    "list_command = []\n",
    "list_of_stack = [[],[],[],[],[],[],[],[],[]]\n",
    "\n",
    "with open('input.txt') as file:\n",
    "    for line in file:\n",
    "        i += 1\n",
    "        words = line.split()\n",
    "        list_command.append(words)\n",
    "        if i <= 8:\n",
    "            if line[1] != ' ':\n",
    "                list_of_stack[0].append(line[1])\n",
    "            if line[5] != ' ':\n",
    "                list_of_stack[1].append(line[5])\n",
    "            if line[9] != ' ':\n",
    "                list_of_stack[2].append(line[9])\n",
    "            if line[13] != ' ':\n",
    "                list_of_stack[3].append(line[13])\n",
    "            if line[17] != ' ':\n",
    "                list_of_stack[4].append(line[17])\n",
    "            if line[21] != ' ':\n",
    "                list_of_stack[5].append(line[21])\n",
    "            if line[25] != ' ':\n",
    "                list_of_stack[6].append(line[25])\n",
    "            if line[29] != ' ':\n",
    "                list_of_stack[7].append(line[29])\n",
    "            if line[33] != ' ':\n",
    "                list_of_stack[8].append(line[33])\n",
    "list_command = list_command[10::]"
   ]
  },
  {
   "cell_type": "code",
   "execution_count": 6,
   "id": "1b0c8814",
   "metadata": {},
   "outputs": [],
   "source": [
    "for item in list_num:\n",
    "    for i in range(1,item[0]+1):\n",
    "        list_of_stack[item[2]].insert(i-1, list_of_stack[item[1]][0])\n",
    "        del list_of_stack[item[1]][0]\n",
    "part_2_string = ''.join([item[0] for item in list_of_stack])"
   ]
  },
  {
   "cell_type": "code",
   "execution_count": 7,
   "id": "ca031e9a",
   "metadata": {},
   "outputs": [
    {
     "data": {
      "text/plain": [
       "'VRQWPDSGP'"
      ]
     },
     "execution_count": 7,
     "metadata": {},
     "output_type": "execute_result"
    }
   ],
   "source": [
    "part_2_string"
   ]
  }
 ],
 "metadata": {
  "kernelspec": {
   "display_name": "Python 3",
   "language": "python",
   "name": "python3"
  },
  "language_info": {
   "codemirror_mode": {
    "name": "ipython",
    "version": 3
   },
   "file_extension": ".py",
   "mimetype": "text/x-python",
   "name": "python",
   "nbconvert_exporter": "python",
   "pygments_lexer": "ipython3",
   "version": "3.8.8"
  }
 },
 "nbformat": 4,
 "nbformat_minor": 5
}
