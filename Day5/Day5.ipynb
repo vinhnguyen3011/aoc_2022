{
 "cells": [
  {
   "cell_type": "code",
   "execution_count": 1,
   "id": "e736b73a",
   "metadata": {},
   "outputs": [
    {
     "data": {
      "text/plain": [
       "[['J', 'Z', 'G', 'V', 'T', 'D', 'B', 'N'],\n",
       " ['F', 'P', 'W', 'D', 'M', 'R', 'S'],\n",
       " ['Z', 'S', 'R', 'C', 'V'],\n",
       " ['G', 'H', 'P', 'Z', 'J', 'T', 'R'],\n",
       " ['F', 'Q', 'Z', 'D', 'N', 'J', 'C', 'T'],\n",
       " ['M', 'F', 'S', 'G', 'W', 'P', 'V', 'N'],\n",
       " ['Q', 'P', 'B', 'V', 'C', 'G'],\n",
       " ['N', 'P', 'B', 'Z'],\n",
       " ['J', 'P', 'W']]"
      ]
     },
     "execution_count": 1,
     "metadata": {},
     "output_type": "execute_result"
    }
   ],
   "source": [
    "i = 0\n",
    "list_1 =[]\n",
    "list_2 =[]\n",
    "list_3 =[]\n",
    "list_4 =[]\n",
    "list_5 =[]\n",
    "list_6 =[]\n",
    "list_7 =[]\n",
    "list_8 =[]\n",
    "list_9 =[]\n",
    "list_command = []\n",
    "\n",
    "with open('input.txt') as file:\n",
    "    for line in file:\n",
    "        i += 1\n",
    "        words = line.split()\n",
    "        list_command.append(words)\n",
    "        if i <= 8:\n",
    "            if line[1] != ' ':\n",
    "                list_1.append(line[1])\n",
    "            if line[5] != ' ':\n",
    "                list_2.append(line[5])\n",
    "            if line[9] != ' ':\n",
    "                list_3.append(line[9])\n",
    "            if line[13] != ' ':\n",
    "                list_4.append(line[13])\n",
    "            if line[17] != ' ':\n",
    "                list_5.append(line[17])\n",
    "            if line[21] != ' ':\n",
    "                list_6.append(line[21])\n",
    "            if line[25] != ' ':\n",
    "                list_7.append(line[25])\n",
    "            if line[29] != ' ':\n",
    "                list_8.append(line[29])\n",
    "            if line[33] != ' ':\n",
    "                list_9.append(line[33])\n",
    "list_command = list_command[10::]\n",
    "list_of_stack = []\n",
    "list_of_stack.append(list_1)\n",
    "list_of_stack.append(list_2)\n",
    "list_of_stack.append(list_3)\n",
    "list_of_stack.append(list_4)\n",
    "list_of_stack.append(list_5)\n",
    "list_of_stack.append(list_6)\n",
    "list_of_stack.append(list_7)\n",
    "list_of_stack.append(list_8)\n",
    "list_of_stack.append(list_9)\n",
    "list_of_stack"
   ]
  },
  {
   "cell_type": "code",
   "execution_count": 2,
   "id": "f9deeda9",
   "metadata": {},
   "outputs": [],
   "source": [
    "list_num = []\n",
    "for item in list_command:\n",
    "    list_in_list = [int(item[1]),int(item[3]),int(item[5])]\n",
    "    list_num.append(list_in_list)"
   ]
  },
  {
   "cell_type": "markdown",
   "id": "2d7bf04e",
   "metadata": {},
   "source": [
    "# Part 1"
   ]
  },
  {
   "cell_type": "code",
   "execution_count": 3,
   "id": "4c67f413",
   "metadata": {},
   "outputs": [],
   "source": [
    "for item in list_num:\n",
    "    for i in range(0,item[0]):\n",
    "        list_of_stack[item[2]-1].insert(0, list_of_stack[item[1]-1][0])\n",
    "        del list_of_stack[item[1]-1][0]"
   ]
  },
  {
   "cell_type": "code",
   "execution_count": 4,
   "id": "0a48f241",
   "metadata": {},
   "outputs": [],
   "source": [
    "list_top = []\n",
    "for item in list_of_stack:\n",
    "    list_top.append(item[0])"
   ]
  },
  {
   "cell_type": "code",
   "execution_count": 5,
   "id": "4ecd7b14",
   "metadata": {},
   "outputs": [
    {
     "data": {
      "text/plain": [
       "'GFTNRBZPF'"
      ]
     },
     "execution_count": 5,
     "metadata": {},
     "output_type": "execute_result"
    }
   ],
   "source": [
    "part_1_string = ''\n",
    "for item in list_of_stack:\n",
    "    part_1_string = part_1_string + item[0]\n",
    "part_1_string"
   ]
  },
  {
   "cell_type": "markdown",
   "id": "3181a1d4",
   "metadata": {},
   "source": [
    "# Part 2"
   ]
  },
  {
   "cell_type": "code",
   "execution_count": 6,
   "id": "da00a038",
   "metadata": {},
   "outputs": [
    {
     "data": {
      "text/plain": [
       "[['J', 'Z', 'G', 'V', 'T', 'D', 'B', 'N'],\n",
       " ['F', 'P', 'W', 'D', 'M', 'R', 'S'],\n",
       " ['Z', 'S', 'R', 'C', 'V'],\n",
       " ['G', 'H', 'P', 'Z', 'J', 'T', 'R'],\n",
       " ['F', 'Q', 'Z', 'D', 'N', 'J', 'C', 'T'],\n",
       " ['M', 'F', 'S', 'G', 'W', 'P', 'V', 'N'],\n",
       " ['Q', 'P', 'B', 'V', 'C', 'G'],\n",
       " ['N', 'P', 'B', 'Z'],\n",
       " ['J', 'P', 'W']]"
      ]
     },
     "execution_count": 6,
     "metadata": {},
     "output_type": "execute_result"
    }
   ],
   "source": [
    "i = 0\n",
    "list_1 =[]\n",
    "list_2 =[]\n",
    "list_3 =[]\n",
    "list_4 =[]\n",
    "list_5 =[]\n",
    "list_6 =[]\n",
    "list_7 =[]\n",
    "list_8 =[]\n",
    "list_9 =[]\n",
    "list_command = []\n",
    "\n",
    "with open('input.txt') as file:\n",
    "    for line in file:\n",
    "        i += 1\n",
    "        words = line.split()\n",
    "        list_command.append(words)\n",
    "        if i <= 8:\n",
    "            if line[1] != ' ':\n",
    "                list_1.append(line[1])\n",
    "            if line[5] != ' ':\n",
    "                list_2.append(line[5])\n",
    "            if line[9] != ' ':\n",
    "                list_3.append(line[9])\n",
    "            if line[13] != ' ':\n",
    "                list_4.append(line[13])\n",
    "            if line[17] != ' ':\n",
    "                list_5.append(line[17])\n",
    "            if line[21] != ' ':\n",
    "                list_6.append(line[21])\n",
    "            if line[25] != ' ':\n",
    "                list_7.append(line[25])\n",
    "            if line[29] != ' ':\n",
    "                list_8.append(line[29])\n",
    "            if line[33] != ' ':\n",
    "                list_9.append(line[33])\n",
    "list_command = list_command[10::]\n",
    "list_of_stack = []\n",
    "list_of_stack.append(list_1)\n",
    "list_of_stack.append(list_2)\n",
    "list_of_stack.append(list_3)\n",
    "list_of_stack.append(list_4)\n",
    "list_of_stack.append(list_5)\n",
    "list_of_stack.append(list_6)\n",
    "list_of_stack.append(list_7)\n",
    "list_of_stack.append(list_8)\n",
    "list_of_stack.append(list_9)\n",
    "list_of_stack"
   ]
  },
  {
   "cell_type": "code",
   "execution_count": 7,
   "id": "1b0c8814",
   "metadata": {},
   "outputs": [],
   "source": [
    "for item in list_num:\n",
    "    for i in range(1,item[0]+1):\n",
    "        list_of_stack[item[2]-1].insert(i-1, list_of_stack[item[1]-1][0])\n",
    "        del list_of_stack[item[1]-1][0] "
   ]
  },
  {
   "cell_type": "code",
   "execution_count": 8,
   "id": "f2821cf2",
   "metadata": {},
   "outputs": [
    {
     "data": {
      "text/plain": [
       "'VRQWPDSGP'"
      ]
     },
     "execution_count": 8,
     "metadata": {},
     "output_type": "execute_result"
    }
   ],
   "source": [
    "list_top = []\n",
    "for item in list_of_stack:\n",
    "    list_top.append(item[0])\n",
    "part_2_string = ''\n",
    "for item in list_of_stack:\n",
    "    part_2_string = part_2_string + item[0]\n",
    "part_2_string"
   ]
  }
 ],
 "metadata": {
  "kernelspec": {
   "display_name": "Python 3",
   "language": "python",
   "name": "python3"
  },
  "language_info": {
   "codemirror_mode": {
    "name": "ipython",
    "version": 3
   },
   "file_extension": ".py",
   "mimetype": "text/x-python",
   "name": "python",
   "nbconvert_exporter": "python",
   "pygments_lexer": "ipython3",
   "version": "3.8.8"
  }
 },
 "nbformat": 4,
 "nbformat_minor": 5
}
