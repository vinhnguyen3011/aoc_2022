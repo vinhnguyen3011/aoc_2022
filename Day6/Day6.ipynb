{
 "cells": [
  {
   "cell_type": "code",
   "execution_count": 20,
   "id": "63d11635",
   "metadata": {},
   "outputs": [
    {
     "name": "stdout",
     "output_type": "stream",
     "text": [
      "first marker after character: 1287\n"
     ]
    }
   ],
   "source": [
    "with open('input.txt') as file:\n",
    "    for line in file:\n",
    "        for i in range(1,len(line)):\n",
    "            first_marker = ''.join([line[x] for x in range(i-1,i+3)])\n",
    "            first_marker = ''.join(set(first_marker))\n",
    "            start_of_message_marker = ''.join([line[x] for x in range(i-1,i+13)])\n",
    "            start_of_message_marker = ''.join(set(first_marker))\n",
    "#             print(first_marker)\n",
    "#             print(i+4)\n",
    "            if len(first_marker) == 4:\n",
    "                print(\"first marker after character:\", i+3)\n",
    "                break\n",
    "            "
   ]
  }
 ],
 "metadata": {
  "kernelspec": {
   "display_name": "Python 3",
   "language": "python",
   "name": "python3"
  },
  "language_info": {
   "codemirror_mode": {
    "name": "ipython",
    "version": 3
   },
   "file_extension": ".py",
   "mimetype": "text/x-python",
   "name": "python",
   "nbconvert_exporter": "python",
   "pygments_lexer": "ipython3",
   "version": "3.8.8"
  }
 },
 "nbformat": 4,
 "nbformat_minor": 5
}
