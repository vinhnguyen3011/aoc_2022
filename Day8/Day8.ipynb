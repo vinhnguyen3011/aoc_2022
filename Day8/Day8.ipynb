{
 "cells": [
  {
   "cell_type": "code",
   "execution_count": 2,
   "id": "0cf64497",
   "metadata": {},
   "outputs": [],
   "source": [
    "import numpy as np"
   ]
  },
  {
   "cell_type": "code",
   "execution_count": 61,
   "id": "3d17fba6",
   "metadata": {},
   "outputs": [],
   "source": [
    "for_matrix = []\n",
    "with open('input.txt') as file:\n",
    "    for line in file:\n",
    "        tree_array = [int(line[i]) for i in range(0,len(line)-1)]\n",
    "        for_matrix.append(tree_array)\n",
    "tree_matrix = np.matrix(for_matrix)"
   ]
  },
  {
   "cell_type": "code",
   "execution_count": 7,
   "id": "1812afb6",
   "metadata": {},
   "outputs": [
    {
     "data": {
      "text/plain": [
       "matrix([[1, 2, 2, ..., 1, 2, 1],\n",
       "        [2, 1, 2, ..., 0, 0, 2],\n",
       "        [2, 0, 0, ..., 0, 0, 2],\n",
       "        ...,\n",
       "        [0, 1, 0, ..., 0, 1, 2],\n",
       "        [1, 0, 2, ..., 2, 0, 2],\n",
       "        [1, 0, 2, ..., 0, 0, 0]])"
      ]
     },
     "execution_count": 7,
     "metadata": {},
     "output_type": "execute_result"
    }
   ],
   "source": [
    "tree_matrix"
   ]
  },
  {
   "cell_type": "code",
   "execution_count": 26,
   "id": "9eaeb470",
   "metadata": {},
   "outputs": [
    {
     "ename": "IndexError",
     "evalue": "index 2 is out of bounds for axis 0 with size 1",
     "output_type": "error",
     "traceback": [
      "\u001b[1;31m---------------------------------------------------------------------------\u001b[0m",
      "\u001b[1;31mIndexError\u001b[0m                                Traceback (most recent call last)",
      "Input \u001b[1;32mIn [26]\u001b[0m, in \u001b[0;36m<cell line: 1>\u001b[1;34m()\u001b[0m\n\u001b[1;32m----> 1\u001b[0m \u001b[43mtree_matrix\u001b[49m\u001b[43m[\u001b[49m\u001b[38;5;241;43m2\u001b[39;49m\u001b[43m,\u001b[49m\u001b[38;5;241;43m0\u001b[39;49m\u001b[43m]\u001b[49m\n",
      "File \u001b[1;32m~\\anaconda3\\lib\\site-packages\\numpy\\matrixlib\\defmatrix.py:193\u001b[0m, in \u001b[0;36mmatrix.__getitem__\u001b[1;34m(self, index)\u001b[0m\n\u001b[0;32m    190\u001b[0m \u001b[38;5;28mself\u001b[39m\u001b[38;5;241m.\u001b[39m_getitem \u001b[38;5;241m=\u001b[39m \u001b[38;5;28;01mTrue\u001b[39;00m\n\u001b[0;32m    192\u001b[0m \u001b[38;5;28;01mtry\u001b[39;00m:\n\u001b[1;32m--> 193\u001b[0m     out \u001b[38;5;241m=\u001b[39m \u001b[43mN\u001b[49m\u001b[38;5;241;43m.\u001b[39;49m\u001b[43mndarray\u001b[49m\u001b[38;5;241;43m.\u001b[39;49m\u001b[38;5;21;43m__getitem__\u001b[39;49m\u001b[43m(\u001b[49m\u001b[38;5;28;43mself\u001b[39;49m\u001b[43m,\u001b[49m\u001b[43m \u001b[49m\u001b[43mindex\u001b[49m\u001b[43m)\u001b[49m\n\u001b[0;32m    194\u001b[0m \u001b[38;5;28;01mfinally\u001b[39;00m:\n\u001b[0;32m    195\u001b[0m     \u001b[38;5;28mself\u001b[39m\u001b[38;5;241m.\u001b[39m_getitem \u001b[38;5;241m=\u001b[39m \u001b[38;5;28;01mFalse\u001b[39;00m\n",
      "\u001b[1;31mIndexError\u001b[0m: index 2 is out of bounds for axis 0 with size 1"
     ]
    }
   ],
   "source": [
    "tree_matrix[2,0]"
   ]
  },
  {
   "cell_type": "code",
   "execution_count": 63,
   "id": "9dde6788",
   "metadata": {},
   "outputs": [
    {
     "data": {
      "text/plain": [
       "1763"
      ]
     },
     "execution_count": 63,
     "metadata": {},
     "output_type": "execute_result"
    }
   ],
   "source": [
    "count = 0\n",
    "for a in range(1,98):\n",
    "    for b in range(1,98):\n",
    "        if a == 0 or a == 98 or b == 0 or b == 98:\n",
    "            count += 1\n",
    "        elif True not in [tree_matrix[a,b] <= tree_matrix[x,b] for x in range(a)]:\n",
    "            count += 1\n",
    "        elif True not in [tree_matrix[a,b] <= tree_matrix[x,b] for x in range(a+1,99)]:\n",
    "            count += 1\n",
    "        elif True not in [tree_matrix[a,b] <= tree_matrix[a,x] for x in range(b)]:\n",
    "            count += 1\n",
    "        elif True not in [tree_matrix[a,b] <= tree_matrix[a,x] for x in range(b+1,99)]:\n",
    "            count += 1\n",
    "# Add the edge:\n",
    "Edge = 99*2 + (99*2) - 4 \n",
    "count = count + Edge\n",
    "count"
   ]
  },
  {
   "cell_type": "code",
   "execution_count": 18,
   "id": "b3f90735",
   "metadata": {},
   "outputs": [
    {
     "name": "stdout",
     "output_type": "stream",
     "text": [
      "[True, True, True, False, True]\n"
     ]
    }
   ],
   "source": [
    "print([tree_matrix[5,8] <= tree_matrix[x,8] for x in range(5)])"
   ]
  },
  {
   "cell_type": "code",
   "execution_count": 30,
   "id": "e60b457f",
   "metadata": {},
   "outputs": [
    {
     "data": {
      "text/plain": [
       "matrix([[3, 0, 3, 7, 3],\n",
       "        [2, 5, 5, 1, 2],\n",
       "        [6, 5, 3, 3, 2],\n",
       "        [3, 3, 5, 4, 9],\n",
       "        [3, 5, 3, 9, 0]])"
      ]
     },
     "execution_count": 30,
     "metadata": {},
     "output_type": "execute_result"
    }
   ],
   "source": [
    "tree_matrix"
   ]
  },
  {
   "cell_type": "code",
   "execution_count": 39,
   "id": "495a882f",
   "metadata": {},
   "outputs": [],
   "source": [
    "tree_matrix = np.matrix([[3, 0, 3, 7, 3], [2,5,5,1,2], [6,5,3,3,2],[3,3,5,4,9],[3,5,3,9,0]])"
   ]
  },
  {
   "cell_type": "code",
   "execution_count": 60,
   "id": "969966e3",
   "metadata": {},
   "outputs": [
    {
     "data": {
      "text/plain": [
       "21"
      ]
     },
     "execution_count": 60,
     "metadata": {},
     "output_type": "execute_result"
    }
   ],
   "source": [
    "tree_matrix = np.matrix([[3, 0, 3, 7, 3], [2,5,5,1,2], [6,5,3,3,2],[3,3,5,4,9],[3,5,3,9,0]])\n",
    "count = 0\n",
    "for a in range(1,4):\n",
    "    for b in range(1,4):\n",
    "        if True not in [tree_matrix[a,b] <= tree_matrix[x,b] for x in range(a)] or True not in [tree_matrix[a,b] <= tree_matrix[x,b] for x in range(a+1,5)] or True not in [tree_matrix[a,b] <= tree_matrix[a,x] for x in range(b)] or True not in [tree_matrix[a,b] <= tree_matrix[a,x] for x in range(b+1,5)]:\n",
    "            count += 1\n",
    "# Add the edge:\n",
    "Edge = 5*2 + (5*2) - 4 \n",
    "count = count + Edge\n",
    "count"
   ]
  }
 ],
 "metadata": {
  "kernelspec": {
   "display_name": "Python 3 (ipykernel)",
   "language": "python",
   "name": "python3"
  },
  "language_info": {
   "codemirror_mode": {
    "name": "ipython",
    "version": 3
   },
   "file_extension": ".py",
   "mimetype": "text/x-python",
   "name": "python",
   "nbconvert_exporter": "python",
   "pygments_lexer": "ipython3",
   "version": "3.9.12"
  }
 },
 "nbformat": 4,
 "nbformat_minor": 5
}
