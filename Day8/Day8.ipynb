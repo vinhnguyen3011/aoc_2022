{
 "cells": [
  {
   "cell_type": "code",
   "execution_count": 5,
   "id": "0cf64497",
   "metadata": {},
   "outputs": [],
   "source": [
    "import numpy as np"
   ]
  },
  {
   "cell_type": "code",
   "execution_count": 20,
   "id": "3d17fba6",
   "metadata": {},
   "outputs": [],
   "source": [
    "for_matrix = []\n",
    "with open('input.txt') as file:\n",
    "    for line in file:\n",
    "        tree_array = [int(line[i]) for i in range(0,len(line)-1)]\n",
    "        for_matrix.append(tree_array)\n",
    "tree_matrix = np.matrix(for_matrix)"
   ]
  },
  {
   "cell_type": "code",
   "execution_count": 25,
   "id": "1812afb6",
   "metadata": {},
   "outputs": [
    {
     "data": {
      "text/plain": [
       "(99, 99)"
      ]
     },
     "execution_count": 25,
     "metadata": {},
     "output_type": "execute_result"
    }
   ],
   "source": [
    "tree_matrix.shape"
   ]
  },
  {
   "cell_type": "code",
   "execution_count": 28,
   "id": "9eaeb470",
   "metadata": {},
   "outputs": [
    {
     "data": {
      "text/plain": [
       "matrix([[1, 0, 2, 1, 0, 0, 0, 2, 0, 2, 3, 3, 1, 1, 2, 3, 2, 2, 1, 3, 0,\n",
       "         0, 1, 4, 0, 3, 0, 4, 4, 3, 1, 3, 3, 0, 4, 2, 1, 1, 5, 5, 1, 5,\n",
       "         5, 4, 4, 4, 2, 4, 4, 4, 3, 5, 1, 4, 3, 5, 1, 3, 5, 3, 2, 3, 2,\n",
       "         2, 1, 4, 3, 4, 0, 2, 2, 1, 1, 4, 2, 4, 3, 4, 2, 3, 4, 0, 1, 3,\n",
       "         0, 0, 0, 0, 3, 2, 0, 0, 2, 1, 2, 2, 0, 0, 0]])"
      ]
     },
     "execution_count": 28,
     "metadata": {},
     "output_type": "execute_result"
    }
   ],
   "source": [
    "tree_matrix[-1]"
   ]
  },
  {
   "cell_type": "code",
   "execution_count": 30,
   "id": "9dde6788",
   "metadata": {},
   "outputs": [
    {
     "data": {
      "text/plain": [
       "0"
      ]
     },
     "execution_count": 30,
     "metadata": {},
     "output_type": "execute_result"
    }
   ],
   "source": [
    "count = 0\n",
    "for a in range(0,98):\n",
    "    for b in range(0,98):\n",
    "        if a == 0 | a == 98 | b == 0 | b == 98:\n",
    "            count += 1\n",
    "#         elif tree_matrix[a,b] > tree_matrix[[a,c] for c in range(0,b)]:\n",
    "#             count += 1\n",
    "#         elif tree_matrix[a,b] > tree_matrix[[d,b] for d in range(0,a)]:\n",
    "#             count += 1\n",
    "#         elif tree_matrix[a,b] > tree_matrix[[a,e] for e in range(b+1,99)]:\n",
    "#             count += 1\n",
    "#         elif tree_matrix[a,b] > tree_matrix[[f,b] for f in range(a+1,99)]:\n",
    "#             count += 1\n",
    "count"
   ]
  },
  {
   "cell_type": "code",
   "execution_count": null,
   "id": "b3f90735",
   "metadata": {},
   "outputs": [],
   "source": []
  }
 ],
 "metadata": {
  "kernelspec": {
   "display_name": "Python 3",
   "language": "python",
   "name": "python3"
  },
  "language_info": {
   "codemirror_mode": {
    "name": "ipython",
    "version": 3
   },
   "file_extension": ".py",
   "mimetype": "text/x-python",
   "name": "python",
   "nbconvert_exporter": "python",
   "pygments_lexer": "ipython3",
   "version": "3.8.8"
  }
 },
 "nbformat": 4,
 "nbformat_minor": 5
}
